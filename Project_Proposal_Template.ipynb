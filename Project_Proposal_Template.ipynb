{
 "cells": [
  {
   "cell_type": "markdown",
   "id": "dying-spectrum",
   "metadata": {},
   "source": [
    "# Project Proposal\n",
    "## Mariia, Bree and Ha\n",
    "\n",
    "For our final project, we will be analyzing the The Diffusion of Microfinance network. We have each read the abstract of the corresponding paper for which this data was originally collected, and if there was no corresponding paper we have researched the context of this dataset. We are interested in studying this network because of the significance of its analysis for policy-making decisions in contexts where resources are scarce. The network examines information diffusion through a social network, focusing on how information passing is affected by who/where the injection points are in the net and their endorsement. The network also focuses on the notion of centrality that we discussed in class, and concentrating on this network will allow us to dive deeper into the material.\n",
    "\n",
    "We have each read the project guidelines document. After reading the guidelines, we anticipate needing help with coding, and deciding on the best type of centrality that makes the most sense for the network.\n",
    "\n",
    "We've decided on the following distribution of labor for our final project:\n",
    "* Mariia \n",
    "    * Learn about the network dataset. Describe the dataset and network.\n",
    "    * Describe the context.\n",
    "* Bree\n",
    "    * Create an adjacency matrix and analyze it. \n",
    "    * Study centrality metrics. \n",
    "* Ha\n",
    "    * Graph partitioning. Identify communities.\n",
    "    * Report on one attribute of the data (degree).\n",
    "* All team members, equally\n",
    "    * Draw conclusions.\n",
    "    * Finish the write-up.\n",
    "    * Finish the presentation."
   ]
  },
  {
   "cell_type": "code",
   "execution_count": null,
   "id": "verified-caribbean",
   "metadata": {},
   "outputs": [],
   "source": []
  }
 ],
 "metadata": {
  "kernelspec": {
   "display_name": "Python 3 (ipykernel)",
   "language": "python",
   "name": "python3"
  },
  "language_info": {
   "codemirror_mode": {
    "name": "ipython",
    "version": 3
   },
   "file_extension": ".py",
   "mimetype": "text/x-python",
   "name": "python",
   "nbconvert_exporter": "python",
   "pygments_lexer": "ipython3",
   "version": "3.9.13"
  }
 },
 "nbformat": 4,
 "nbformat_minor": 5
}
